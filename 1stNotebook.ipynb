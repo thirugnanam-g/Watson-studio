{
    "cells": [
        {
            "metadata": {},
            "cell_type": "markdown",
            "source": "<h1>My Jupyter Notebook on IBM Watson Studio</h1>"
        },
        {
            "metadata": {},
            "cell_type": "markdown",
            "source": "<b>Thirugnanam <br>\n    I am Currently studing B.tech (IT) in PMC Tech "
        },
        {
            "metadata": {},
            "cell_type": "code",
            "source": "",
            "execution_count": null,
            "outputs": []
        }
    ],
    "metadata": {
        "kernelspec": {
            "name": "python3",
            "display_name": "Python 3.10",
            "language": "python"
        },
        "language_info": {
            "name": "python",
            "version": "3.10.14",
            "mimetype": "text/x-python",
            "codemirror_mode": {
                "name": "ipython",
                "version": 3
            },
            "pygments_lexer": "ipython3",
            "nbconvert_exporter": "python",
            "file_extension": ".py"
        }
    },
    "nbformat": 4,
    "nbformat_minor": 1
}